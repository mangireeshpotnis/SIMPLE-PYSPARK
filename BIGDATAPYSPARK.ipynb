{
  "nbformat": 4,
  "nbformat_minor": 0,
  "metadata": {
    "colab": {
      "name": "BIGDATAPYSPARK (2).ipynb",
      "provenance": [],
      "collapsed_sections": []
    },
    "kernelspec": {
      "name": "python3",
      "display_name": "Python 3"
    },
    "accelerator": "GPU"
  },
  "cells": [
    {
      "cell_type": "code",
      "metadata": {
        "id": "Cbi-i06Mfwol",
        "colab_type": "code",
        "colab": {}
      },
      "source": [
        "!apt-get install openjdk-8-jdk-headless -qq > /dev/null\n",
        "!wget -q http://apache.osuosl.org/spark/spark-2.4.4/spark-2.4.4-bin-hadoop2.7.tgz\n",
        "!tar xf spark-2.4.4-bin-hadoop2.7.tgz\n",
        "!pip install -q findspark"
      ],
      "execution_count": 0,
      "outputs": []
    },
    {
      "cell_type": "code",
      "metadata": {
        "id": "kaNxV8gvf21R",
        "colab_type": "code",
        "colab": {}
      },
      "source": [
        "import os"
      ],
      "execution_count": 0,
      "outputs": []
    },
    {
      "cell_type": "code",
      "metadata": {
        "id": "T4foK_kKj2Ln",
        "colab_type": "code",
        "colab": {}
      },
      "source": [
        "os.environ[\"JAVA_HOME\"] = \"/usr/lib/jvm/java-8-openjdk-amd64\"\n",
        "os.environ[\"SPARK_HOME\"] = \"/content/spark-2.4.4-bin-hadoop2.7\""
      ],
      "execution_count": 0,
      "outputs": []
    },
    {
      "cell_type": "code",
      "metadata": {
        "id": "_Aw2byW5keoW",
        "colab_type": "code",
        "colab": {}
      },
      "source": [
        "import findspark"
      ],
      "execution_count": 0,
      "outputs": []
    },
    {
      "cell_type": "code",
      "metadata": {
        "id": "in0X1JXGkg8b",
        "colab_type": "code",
        "colab": {}
      },
      "source": [
        "findspark.init()\n",
        "from pyspark.sql import SparkSession"
      ],
      "execution_count": 0,
      "outputs": []
    },
    {
      "cell_type": "code",
      "metadata": {
        "id": "HloXhartlQBk",
        "colab_type": "code",
        "colab": {}
      },
      "source": [
        "spark = SparkSession.builder.master(\"local[*]\").getOrCreate()"
      ],
      "execution_count": 0,
      "outputs": []
    },
    {
      "cell_type": "markdown",
      "metadata": {
        "id": "YfIpkVf_uQ8g",
        "colab_type": "text"
      },
      "source": [
        "GETTING THE DATA FROM GOOGLE DRIVE\n"
      ]
    },
    {
      "cell_type": "code",
      "metadata": {
        "id": "iu8RJkiPauc9",
        "colab_type": "code",
        "colab": {}
      },
      "source": [
        "#getting the files from drive\n",
        "!pip install -U -q PyDrive\n",
        "from pydrive.auth import GoogleAuth\n",
        "from pydrive.drive import GoogleDrive\n",
        "from google.colab import auth\n",
        "from oauth2client.client import GoogleCredentials"
      ],
      "execution_count": 0,
      "outputs": []
    },
    {
      "cell_type": "code",
      "metadata": {
        "id": "pfbYFOExawAK",
        "colab_type": "code",
        "colab": {}
      },
      "source": [
        "auth.authenticate_user()\n",
        "gauth = GoogleAuth()\n",
        "gauth.credentials = GoogleCredentials.get_application_default()\n",
        "drive = GoogleDrive(gauth)"
      ],
      "execution_count": 0,
      "outputs": []
    },
    {
      "cell_type": "code",
      "metadata": {
        "id": "7xUZ5nOyi9Rh",
        "colab_type": "code",
        "colab": {}
      },
      "source": [
        "downloaded1 = drive.CreateFile({'id':'1ukV6j1t_Yfmsn4zW_yGD50Uf2Kedp73d'})\n",
        "downloaded.GetContentFile('com_pre_final.csv') "
      ],
      "execution_count": 0,
      "outputs": []
    },
    {
      "cell_type": "code",
      "metadata": {
        "id": "sB6b92GIUyKA",
        "colab_type": "code",
        "colab": {}
      },
      "source": [
        "downloaded2= drive.CreateFile({'id':'1XoXuDkK0-t0mAru9Pimtmb06_LzyIhv6'})\n",
        "downloaded2.GetContentFile('combined_data.csv') "
      ],
      "execution_count": 0,
      "outputs": []
    },
    {
      "cell_type": "markdown",
      "metadata": {
        "id": "DZi9iMBMuVwX",
        "colab_type": "text"
      },
      "source": [
        "IMPORTING LIBRARIES"
      ]
    },
    {
      "cell_type": "code",
      "metadata": {
        "id": "48ZdbeWRlDw3",
        "colab_type": "code",
        "colab": {}
      },
      "source": [
        "#get the dataset\n",
        "dataset = spark.read.csv('com_pre_final.csv',inferSchema=True, header =True)\n",
        "v_dataset = spark.read.csv('combined_data.csv', inferSchema = True , header = True)"
      ],
      "execution_count": 0,
      "outputs": []
    },
    {
      "cell_type": "code",
      "metadata": {
        "id": "buI-SUksbUVN",
        "colab_type": "code",
        "outputId": "8159cf7e-200b-43cc-d6de-b18e0aae3f02",
        "colab": {
          "base_uri": "https://localhost:8080/",
          "height": 479
        }
      },
      "source": [
        "v_dataset.show(truncate = False)"
      ],
      "execution_count": 0,
      "outputs": [
        {
          "output_type": "stream",
          "text": [
            "+---+----------------+------+-------+----------------+-------------+---------+------------+----------------+-------------+---------+-----+------------+----------+------------+-----------+----------------+----------+----------+----+-----+----+----+\n",
            "|_c0|Type of Customer|Region|S.Offie|Regioal S Office|District Code|City Code|Cluster Code|Distributor Code|Customer Code|WareHouse|STLOC|Product Code|Ref       |Invoice Date|Transporter|Delivery Challan|Del Date  |Truck Code|MODE|Dist |QTY |MRP |\n",
            "+---+----------------+------+-------+----------------+-------------+---------+------------+----------------+-------------+---------+-----+------------+----------+------------+-----------+----------------+----------+----------+----+-----+----+----+\n",
            "|0  |DC              |CT    |N4B    |D20             |867          |C004     |ZNR         |9124128125      |9122285036   |E06      |B132 |1790        |6825514790|01.01.2017  |916001456  |5306834285      |29-12-2016|CG04HX7775|Road|299.0|23.0|0.0 |\n",
            "|1  |DC              |HP    |N1A    |D23             |273          |H341     |ZNR         |9124135005      |9122193944   |E04      |Z115 |1805        |6825515371|01.01.2017  |916001137  |5306837889      |30-12-2016|HP64B3365 |Road|122.0|10.0|0.0 |\n",
            "|2  |DC              |WB    |N3C    |D19             |824          |W915     |ZNR         |9124139644      |9122301632   |E18      |FK11 |1790        |6825514746|01.01.2017  |916001939  |5306838923      |30-12-2016|WB57B7577 |Road|152.0|16.0|0.0 |\n",
            "|3  |DE              |HP    |N1K    |D23             |276          |H474     |C44         |9121008402      |9121008402   |E04      |Z115 |1788        |6825515333|01.01.2017  |916001137  |5306839362      |30-12-2016|HP11A3666 |Road|2.0  |10.0|72.0|\n",
            "|4  |DE              |WB    |N3E    |D19             |821          |W849     |20E         |9121010070      |9121010070   |E18      |FK11 |1788        |6825514697|01.01.2017  |916002633  |5306839920      |30-12-2016|WB65B7199 |Road|207.0|16.0|68.6|\n",
            "|5  |DE              |WB    |N3E    |D19             |811          |W412     |VH2         |9121011331      |9121011331   |E18      |FK11 |1788        |6825516400|01.01.2017  |916002865  |5306840205      |30-12-2016|WB57B1261 |Road|482.0|21.0|69.4|\n",
            "|6  |DC              |HP    |N1A    |D23             |275          |H449     |ZNR         |9124119171      |9122130651   |E04      |Z115 |1805        |6825515482|01.01.2017  |916001212  |5306840701      |31-12-2016|HP62A2723 |Road|108.0|10.0|0.0 |\n",
            "|7  |DC              |HP    |N1A    |D23             |275          |H447     |ZNR         |9124119171      |9122127027   |E04      |Z115 |1805        |6825514882|01.01.2017  |916001212  |5306840716      |31-12-2016|HP515123  |Road|113.0|10.0|0.0 |\n",
            "|8  |DC              |HP    |N1A    |D23             |274          |H712     |ZNR         |9124119527      |9122122954   |E04      |Z115 |1805        |6825514979|01.01.2017  |916001212  |5306840728      |31-12-2016|HP62B5587 |Road|166.0|20.0|0.0 |\n",
            "|9  |DC              |HP    |N1A    |D23             |274          |H726     |ZNR         |9124119584      |9122125620   |E04      |Z115 |1805        |6825514936|01.01.2017  |916001212  |5306840730      |31-12-2016|HP62C5587 |Road|176.0|20.0|0.0 |\n",
            "|10 |DC              |HP    |N1A    |D23             |274          |H726     |ZNR         |9124119584      |9122125620   |E04      |Z115 |1805        |6825514869|01.01.2017  |916001212  |5306840734      |31-12-2016|HP62A2784 |Road|176.0|10.0|0.0 |\n",
            "|11 |DC              |HP    |N1A    |D23             |274          |H424     |ZNR         |9124119577      |9122130644   |E04      |Z115 |1805        |6825514883|01.01.2017  |916001212  |5306840742      |31-12-2016|HP51A4255 |Road|182.0|10.0|0.0 |\n",
            "|12 |DC              |HP    |N1A    |D23             |274          |H424     |ZNR         |9124119577      |9122130644   |E04      |Z115 |1805        |6825515176|01.01.2017  |916001596  |5306840752      |31-12-2016|HP115028  |Road|182.0|10.0|0.0 |\n",
            "|13 |DE              |HP    |N1K    |D23             |275          |H926     |C36         |9121009476      |9122307031   |E04      |Z115 |1788        |6825515504|01.01.2017  |916001212  |5306840780      |31-12-2016|HP644503  |Road|135.0|10.0|74.0|\n",
            "|14 |DC              |HP    |N1A    |D23             |276          |H516     |ZNR         |9124119171      |9122131632   |E04      |Z115 |1805        |6825515029|01.01.2017  |916001212  |5306840788      |31-12-2016|HP62B3111 |Road|83.0 |20.0|0.0 |\n",
            "|15 |DC              |HP    |N1A    |D23             |274          |H424     |ZNR         |9124119577      |9122130644   |E04      |Z115 |1805        |6825514965|01.01.2017  |916001596  |5306840825      |31-12-2016|HP115864  |Road|182.0|10.0|0.0 |\n",
            "|16 |DE              |CT    |N4B    |D20             |875          |CA39     |D60         |9121004721      |9125424168   |E06      |B132 |1788        |6825514719|01.01.2017  |916000932  |5306840890      |31-12-2016|CG04J1517 |Road|51.0 |18.0|45.0|\n",
            "|17 |DE              |GJ    |N8F    |D17             |832          |GLNH     |NE5         |9121006470      |9122215031   |E02      |A230 |1792        |6825515844|01.01.2017  |916000874  |5306840980      |31-12-2016|GJ11Y6865 |Road|211.0|12.0|49.6|\n",
            "|18 |DE              |GJ    |N8F    |D17             |832          |GLNH     |NE5         |9121006470      |9122215031   |E02      |A230 |9813        |6825515847|01.01.2017  |916000874  |5306840981      |31-12-2016|GJ11Y6865 |Road|211.0|5.0 |54.2|\n",
            "|19 |DC              |GJ    |N8B    |D17             |842          |GVGG     |ZNR         |9124158649      |9122308763   |E02      |A230 |1790        |6825514769|01.01.2017  |916000874  |5306841002      |31-12-2016|GJ11Z9455 |Road|543.0|22.0|0.0 |\n",
            "+---+----------------+------+-------+----------------+-------------+---------+------------+----------------+-------------+---------+-----+------------+----------+------------+-----------+----------------+----------+----------+----+-----+----+----+\n",
            "only showing top 20 rows\n",
            "\n"
          ],
          "name": "stdout"
        }
      ]
    },
    {
      "cell_type": "code",
      "metadata": {
        "id": "BAA7dTQoV_nZ",
        "colab_type": "code",
        "colab": {}
      },
      "source": [
        "v_dataset = v_dataset.drop('_c0')"
      ],
      "execution_count": 0,
      "outputs": []
    },
    {
      "cell_type": "code",
      "metadata": {
        "id": "8vL5Z_6YlJ3W",
        "colab_type": "code",
        "outputId": "d88ef7e3-4bde-4cff-b834-d6531ee5c04e",
        "colab": {
          "base_uri": "https://localhost:8080/",
          "height": 425
        }
      },
      "source": [
        "# seeing the data types of each column\n",
        "v_dataset.printSchema()"
      ],
      "execution_count": 0,
      "outputs": [
        {
          "output_type": "stream",
          "text": [
            "root\n",
            " |-- Type of Customer: string (nullable = true)\n",
            " |-- Region: string (nullable = true)\n",
            " |-- S.Offie: string (nullable = true)\n",
            " |-- Regioal S Office: string (nullable = true)\n",
            " |-- District Code: integer (nullable = true)\n",
            " |-- City Code: string (nullable = true)\n",
            " |-- Cluster Code: string (nullable = true)\n",
            " |-- Distributor Code: long (nullable = true)\n",
            " |-- Customer Code: long (nullable = true)\n",
            " |-- WareHouse: string (nullable = true)\n",
            " |-- STLOC: string (nullable = true)\n",
            " |-- Product Code: long (nullable = true)\n",
            " |-- Ref: long (nullable = true)\n",
            " |-- Invoice Date: string (nullable = true)\n",
            " |-- Transporter: integer (nullable = true)\n",
            " |-- Delivery Challan: long (nullable = true)\n",
            " |-- Del Date: string (nullable = true)\n",
            " |-- Truck Code: string (nullable = true)\n",
            " |-- MODE: string (nullable = true)\n",
            " |-- Dist: string (nullable = true)\n",
            " |-- QTY: string (nullable = true)\n",
            " |-- MRP: double (nullable = true)\n",
            "\n"
          ],
          "name": "stdout"
        }
      ]
    },
    {
      "cell_type": "code",
      "metadata": {
        "id": "33A4CAWhUsid",
        "colab_type": "code",
        "colab": {}
      },
      "source": [
        "#Renaming the colnames\n",
        "v_dataset= v_dataset.withColumnRenamed(\"Type of Customer\", \"Type_of_Customer\").withColumnRenamed(\"S.Offie\", \"SOffie\").withColumnRenamed(\"Regioal S Office\", \"Regioal_S_Office\").withColumnRenamed(\"District Code\", \"District_Code\").withColumnRenamed(\"City Code\", \"City_Code\").withColumnRenamed(\"Cluster Code\", \"Cluster_Code\").withColumnRenamed(\"Distributor Code\", \"Distributor_Code\").withColumnRenamed(\"Customer Code\", \"Customer_Code\").withColumnRenamed(\"Product Code\", \"Product_Code\").withColumnRenamed(\"Invoice Date\", \"Invoice_Date\").withColumnRenamed(\"Del Date\", \"Del_Date\").withColumnRenamed(\"Truck Code\", \"Truck_Code\")"
      ],
      "execution_count": 0,
      "outputs": []
    },
    {
      "cell_type": "code",
      "metadata": {
        "id": "iMlA_aFiNC4N",
        "colab_type": "code",
        "outputId": "720d7e2c-0e55-4a3b-8542-380314014c4f",
        "colab": {
          "base_uri": "https://localhost:8080/",
          "height": 34
        }
      },
      "source": [
        "#Checking how many rows are there in the dataframe\n",
        "v_dataset.count()"
      ],
      "execution_count": 0,
      "outputs": [
        {
          "output_type": "execute_result",
          "data": {
            "text/plain": [
              "2291856"
            ]
          },
          "metadata": {
            "tags": []
          },
          "execution_count": 25
        }
      ]
    },
    {
      "cell_type": "code",
      "metadata": {
        "id": "6ltLHp5MNCui",
        "colab_type": "code",
        "outputId": "7fd2a088-08c5-42ab-c597-089dea6ca8cd",
        "colab": {
          "base_uri": "https://localhost:8080/",
          "height": 459
        }
      },
      "source": [
        "#selecting particular columns\n",
        "v_dataset.select('Region','Product_Code','QTY').show()"
      ],
      "execution_count": 0,
      "outputs": [
        {
          "output_type": "stream",
          "text": [
            "+------+------------+----+\n",
            "|Region|Product_Code| QTY|\n",
            "+------+------------+----+\n",
            "|    CT|        1790|23.0|\n",
            "|    HP|        1805|10.0|\n",
            "|    WB|        1790|16.0|\n",
            "|    HP|        1788|10.0|\n",
            "|    WB|        1788|16.0|\n",
            "|    WB|        1788|21.0|\n",
            "|    HP|        1805|10.0|\n",
            "|    HP|        1805|10.0|\n",
            "|    HP|        1805|20.0|\n",
            "|    HP|        1805|20.0|\n",
            "|    HP|        1805|10.0|\n",
            "|    HP|        1805|10.0|\n",
            "|    HP|        1805|10.0|\n",
            "|    HP|        1788|10.0|\n",
            "|    HP|        1805|20.0|\n",
            "|    HP|        1805|10.0|\n",
            "|    CT|        1788|18.0|\n",
            "|    GJ|        1792|12.0|\n",
            "|    GJ|        9813| 5.0|\n",
            "|    GJ|        1790|22.0|\n",
            "+------+------------+----+\n",
            "only showing top 20 rows\n",
            "\n"
          ],
          "name": "stdout"
        }
      ]
    },
    {
      "cell_type": "code",
      "metadata": {
        "id": "c5gJrDNJNClT",
        "colab_type": "code",
        "outputId": "2e0b81f6-4dd0-4e7b-ba40-86c0ab07c252",
        "colab": {
          "base_uri": "https://localhost:8080/",
          "height": 207
        }
      },
      "source": [
        "#Getting the summary of a column\n",
        "v_dataset.describe().show()"
      ],
      "execution_count": 0,
      "outputs": [
        {
          "output_type": "stream",
          "text": [
            "+-------+----------------+-------+-------+----------------+-----------------+---------+------------------+-----------------+-------------------+---------+-------+--------------------+-------------------+------------+-------------------+--------------------+----------+--------------------+-------+------------------+-----------------+------------------+\n",
            "|summary|Type_of_Customer| Region| SOffie|Regioal_S_Office|    District_Code|City_Code|      Cluster_Code| Distributor_Code|      Customer_Code|WareHouse|  STLOC|        Product_Code|                Ref|Invoice_Date|        Transporter|    Delivery Challan|  Del_Date|          Truck_Code|   MODE|              Dist|              QTY|               MRP|\n",
            "+-------+----------------+-------+-------+----------------+-----------------+---------+------------------+-----------------+-------------------+---------+-------+--------------------+-------------------+------------+-------------------+--------------------+----------+--------------------+-------+------------------+-----------------+------------------+\n",
            "|  count|         2291856|2291856|2291856|         2291856|          2291856|  2291856|           2291752|          2291856|            2291856|  2291856|2291856|             2291856|            2291856|     2291856|            2291856|             2291856|   2291856|             2291856|2291856|           2291856|          2291856|           2291856|\n",
            "|   mean|            null|   null|   null|            null|534.9760783400004|     null| 33.93769138596725|9.1213325355876E9|9.121988089666195E9|     null|   null|  196010.71872752914|6.826763590699458E9|        null|9.162610020529165E8| 5.342457593772776E9|      null|5.0860062554856116E8|   null| 77.70290930606116|9.961559222141043| 61.69307050268943|\n",
            "| stddev|            null|   null|   null|            null|214.5584588087057|     null|11.902605425756837|948427.9844598018| 1332529.7280120067|     null|   null|1.6932789645502374E8|  782909.4425019232|        null| 1328760.3090427183|2.5511717427139074E7|      null|1.7110321798945642E9|   null|106.53536998904809|  9.2491453917451|22.696524560419018|\n",
            "|    min|              DC|     AN|    N0A|             D16|              102|     A001|               10A|       9121000001|         9121000025|      E02|   A209|                1767|         6825514662|  01.01.2017|          910007383|          5306810520|01-01-2017|          ,H26H/7323|   Rail|                 0|            0.016|               0.0|\n",
            "|    max|              OT|     WB|    N8M|             D25|              907|     X03R|               ZVH|       9124163061|         9125425890|      GZ8|   Z1D1|        148000010251|         6828220966|  31.12.2017|          918041627|          5361699485|31-12-2017|          `R36Z-2154|   Road|             997.0|            992.5|             140.0|\n",
            "+-------+----------------+-------+-------+----------------+-----------------+---------+------------------+-----------------+-------------------+---------+-------+--------------------+-------------------+------------+-------------------+--------------------+----------+--------------------+-------+------------------+-----------------+------------------+\n",
            "\n"
          ],
          "name": "stdout"
        }
      ]
    },
    {
      "cell_type": "code",
      "metadata": {
        "id": "dNjLev0iNCdv",
        "colab_type": "code",
        "outputId": "fd7e02eb-24b5-448d-d668-88824d4351c8",
        "colab": {
          "base_uri": "https://localhost:8080/",
          "height": 479
        }
      },
      "source": [
        "#filter -application\n",
        "v_dataset.filter(v_dataset.QTY == '23').show()"
      ],
      "execution_count": 0,
      "outputs": [
        {
          "output_type": "stream",
          "text": [
            "+----------------+------+------+----------------+-------------+---------+------------+----------------+-------------+---------+-----+------------+----------+------------+-----------+----------------+----------+----------+----+-----+---+----+\n",
            "|Type_of_Customer|Region|SOffie|Regioal_S_Office|District_Code|City_Code|Cluster_Code|Distributor_Code|Customer_Code|WareHouse|STLOC|Product_Code|       Ref|Invoice_Date|Transporter|Delivery Challan|  Del_Date|Truck_Code|MODE| Dist|QTY| MRP|\n",
            "+----------------+------+------+----------------+-------------+---------+------------+----------------+-------------+---------+-----+------------+----------+------------+-----------+----------------+----------+----------+----+-----+---+----+\n",
            "|              DC|    CT|   N4F|             D20|          246|     C206|         ZNR|      9124157951|   9122306886|      E06| B132|        1790|6825904496|  05.03.2017|  916002879|      5306993917|04-03-2017|CG04JD9187|Road|203.0| 23| 0.0|\n",
            "|              DE|    CT|   N4F|             D20|          243|     C427|         HA0|      9121016126|   9121016126|      E06| B132|        1788|6825904479|  05.03.2017|  916002566|      5306993954|04-03-2017| CG10C5434|Road|231.0| 23|46.8|\n",
            "|              DE|    CT|   N4F|             D20|          239|     C079|         NK7|      9121011581|   9125409383|      E06| B132|        1788|6825904558|  05.03.2017|  916001456|      5306993980|04-03-2017|CG04JC8452|Road|103.0| 23|46.8|\n",
            "|              DE|    CT|   N4B|             D20|          245|     C112|         UV8|      9121004726|   9125420879|      E06| B132|        1788|6825904325|  05.03.2017|  916001522|      5306994053|04-03-2017|CG04LM6534|Road|122.0| 23|47.4|\n",
            "|              DE|    CT|   N4F|             D20|          243|     C427|         HA0|      9121016126|   9121016126|      E06| B132|        1788|6825904399|  05.03.2017|  916002566|      5306994266|04-03-2017|CG04JB0150|Road|231.0| 23|46.8|\n",
            "|              DC|    CT|   N4F|             D20|          243|     CE41|         ZNR|      9124156228|   9124156228|      E06| B132|        1790|6825904649|  05.03.2017|  916002566|      5306994271|04-03-2017|CG04JB8654|Road|161.0| 23| 0.0|\n",
            "|              DC|    CT|   N4B|             D20|          243|     C184|         ZNR|      9124156038|   9122306349|      E06| B132|        1799|6825904394|  05.03.2017|  916002566|      5306994276|04-03-2017|CG04JB6608|Road|185.0| 23| 0.0|\n",
            "|              DC|    CT|   N4B|             D20|          243|     C184|         ZNR|      9124156038|   9122306349|      E06| B132|        1799|6825904381|  05.03.2017|  916002566|      5306994279|04-03-2017| CG12S3043|Road|185.0| 23| 0.0|\n",
            "|              DE|    CT|   N4F|             D20|          240|     C646|         N33|      9121011691|   9121011691|      E06| B132|        1788|6825904869|  05.03.2017|  916002413|      5306994401|04-03-2017| CG22C0253|Road|383.0| 23|48.4|\n",
            "|              DE|    CT|   N4F|             D20|          869|     C015|         NF4|      9121007724|   9125413820|      E06| B132|        1788|6825904749|  05.03.2017|  916001522|      5306994469|04-03-2017|CG04HY5788|Road|101.0| 23|46.8|\n",
            "|              DE|    CT|   N4F|             D20|          235|     C026|         NF4|      9121007724|   9125413897|      E06| B132|        1788|6825904754|  05.03.2017|  916001522|      5306994474|04-03-2017|MP17HH2811|Road| 96.0| 23|46.8|\n",
            "|              DC|    CT|   N4B|             D20|          247|     C560|         ZNR|      9124145611|   9124145611|      E06| B132|        1790|6825905409|  05.03.2017|  916001456|      5306994475|04-03-2017|CG04JC6560|Road| 78.0| 23| 0.0|\n",
            "|              DE|    CT|   N4B|             D20|          245|     C103|         UV8|      9121012510|   9122306240|      E06| B132|        1788|6825904733|  05.03.2017|  916001522|      5306994510|04-03-2017|CG04LD5742|Road|135.0| 23|47.4|\n",
            "|              DC|    CT|   N4F|             D20|          246|     C514|         ZNR|      9124152393|   9124152393|      E06| B132|        1790|6825905387|  05.03.2017|  916002879|      5306994772|05-03-2017|CG07AV9955|Road|189.0| 23| 0.0|\n",
            "|              DE|    CT|   N4B|             D20|          245|     C102|         HA4|      9121013633|   9122075413|      E06| B132|        1788|6825905776|  05.03.2017|  916001522|      5306994794|05-03-2017|CG04HY5781|Road|120.0| 23|47.4|\n",
            "|              DC|    CT|   N4B|             D20|          246|     C196|         ZNR|      9124155361|   9122309536|      E06| B132|        1790|6825906185|  05.03.2017|  916002413|      5306994861|05-03-2017|CG04JC9953|Road|150.0| 23| 0.0|\n",
            "|              DC|    CT|   N4F|             D20|          246|     C514|         ZNR|      9124152393|   9124152393|      E06| B132|        1790|6825908533|  05.03.2017|  916002413|      5306995434|05-03-2017|CG04JC9053|Road|189.0| 23| 0.0|\n",
            "|              DE|    CT|   N4F|             D20|          235|     C008|         NF4|      9121012673|   9125423009|      E06| B132|        1788|6825908400|  05.03.2017|  916003242|      5306995528|05-03-2017|CG04LG2578|Road| 76.0| 23|46.8|\n",
            "|              DE|    CT|   N4F|             D20|          869|     C016|         NF4|      9121013019|   9121013019|      E06| B132|        1788|6825908116|  05.03.2017|  916003242|      5306995531|05-03-2017|CG04HW9017|Road| 74.0| 23|46.8|\n",
            "|              DE|    CT|   N4B|             D20|          248|     C170|         NT7|      9121017654|   9121017654|      E06| B132|        1788|6825908577|  05.03.2017|  916001456|      5306995605|05-03-2017|CG07CA8420|Road|159.0| 23|47.4|\n",
            "+----------------+------+------+----------------+-------------+---------+------------+----------------+-------------+---------+-----+------------+----------+------------+-----------+----------------+----------+----------+----+-----+---+----+\n",
            "only showing top 20 rows\n",
            "\n"
          ],
          "name": "stdout"
        }
      ]
    },
    {
      "cell_type": "code",
      "metadata": {
        "id": "BZSG1XX4YDgX",
        "colab_type": "code",
        "outputId": "80971589-ddd7-4868-f3bc-0f8dc0caf856",
        "colab": {
          "base_uri": "https://localhost:8080/",
          "height": 459
        }
      },
      "source": [
        "#Showing unique values for particular columns\n",
        "v_dataset.select('Region','Product_Code').distinct().show()"
      ],
      "execution_count": 0,
      "outputs": [
        {
          "output_type": "stream",
          "text": [
            "+------+------------+\n",
            "|Region|Product_Code|\n",
            "+------+------------+\n",
            "|    WB|        1784|\n",
            "|    TG|        1790|\n",
            "|    KL|        1788|\n",
            "|    PB|        1790|\n",
            "|    DD|        9813|\n",
            "|    DL|        1799|\n",
            "|    WB|        1797|\n",
            "|    RJ|        1790|\n",
            "|    DL|        1790|\n",
            "|    CH|        1790|\n",
            "|    CT|        3079|\n",
            "|    CH|        9786|\n",
            "|    AR|        3079|\n",
            "|    TG|        3297|\n",
            "|    TG|        3079|\n",
            "|    MH|        1784|\n",
            "|    KL|        1821|\n",
            "|    KA|        6869|\n",
            "|    JK|        1790|\n",
            "|    KA|        1796|\n",
            "+------+------------+\n",
            "only showing top 20 rows\n",
            "\n"
          ],
          "name": "stdout"
        }
      ]
    },
    {
      "cell_type": "code",
      "metadata": {
        "id": "IDynIEWwNCOi",
        "colab_type": "code",
        "outputId": "e06fa61e-0e59-4c5a-f49e-c768ea40cbd2",
        "colab": {
          "base_uri": "https://localhost:8080/",
          "height": 479
        }
      },
      "source": [
        "v_dataset.filter(v_dataset.Type_of_Customer == 'IC').show()"
      ],
      "execution_count": 0,
      "outputs": [
        {
          "output_type": "stream",
          "text": [
            "+----------------+------+------+----------------+-------------+---------+------------+----------------+-------------+---------+-----+------------+----------+------------+-----------+----------------+----------+----------+----+----+-----+---+\n",
            "|Type_of_Customer|Region|SOffie|Regioal_S_Office|District_Code|City_Code|Cluster_Code|Distributor_Code|Customer_Code|WareHouse|STLOC|Product_Code|       Ref|Invoice_Date|Transporter|Delivery Challan|  Del_Date|Truck_Code|MODE|Dist|  QTY|MRP|\n",
            "+----------------+------+------+----------------+-------------+---------+------------+----------------+-------------+---------+-----+------------+----------+------------+-----------+----------------+----------+----------+----+----+-----+---+\n",
            "|              IC|    WB|   N3C|             D19|          802|     WM59|         ZNR|      9121002001|   9122196150|      E13| SK06|        1797|6825687112|  01.02.2017|  916002812|      5306910354|31-01-2017| WB25D5885|Road|47.0|15.01|0.0|\n",
            "|              IC|    WB|   N3C|             D19|          802|     WM59|         ZNR|      9121002001|   9122196150|      E13| SK06|        1797|6825689531|  01.02.2017|  916002812|      5306911297|01-02-2017| WB23D7764|Road|47.0|20.13|0.0|\n",
            "|              IC|    WB|   N3C|             D19|          802|     WM59|         ZNR|      9121002001|   9122196150|      E13| SK06|        1797|6825690110|  01.02.2017|  916002812|      5306912063|01-02-2017| WB23D2809|Road|47.0|20.23|0.0|\n",
            "|              IC|    WB|   N3C|             D19|          803|     W132|         ZNR|      9121002001|   9122196148|      E13| SK06|        1797|6825690470|  02.02.2017|  916002812|      5306912490|01-02-2017| WB25D5997|Road|39.0|14.97|0.0|\n",
            "|              IC|    WB|   N3C|             D19|          803|     W132|         ZNR|      9121002001|   9122196148|      E13| SK06|        1797|6825690620|  02.02.2017|  916002812|      5306912576|02-02-2017| WB23C6637|Road|39.0|20.03|0.0|\n",
            "|              IC|    MH|   N6B|             D16|          454|     M334|         ZNR|      9121000001|   9122302134|      E25| PN03|        1767|6825691897|  02.02.2017|  916001495|      5306913196|02-02-2017| MH43U8260|Road|42.0| 19.9|0.0|\n",
            "|              IC|    MH|   N6B|             D16|          447|     MI53|         ZNR|      9121000001|   9122280074|      E25| PN03|        1767|6825691946|  02.02.2017|  916001237|      5306913209|02-02-2017|MH06AQ5110|Road|31.5|19.45|0.0|\n",
            "|              IC|    MH|   N6B|             D16|          447|     MI53|         ZNR|      9121000001|   9122280074|      E25| PN03|        1767|6825692377|  02.02.2017|  916001237|      5306913353|02-02-2017|MH46AR0482|Road|31.5|19.14|0.0|\n",
            "|              IC|    MH|   N6B|             D16|          447|     MI53|         ZNR|      9121000001|   9122280074|      E25| PN03|        1767|6825692304|  02.02.2017|  916001237|      5306913368|02-02-2017| MH46F1154|Road|31.5| 19.9|0.0|\n",
            "|              IC|    MH|   N6B|             D16|          447|     MI53|         ZNR|      9121000001|   9122280074|      E25| PN03|        1767|6825692279|  02.02.2017|  916001237|      5306913371|02-02-2017|MH06AQ5105|Road|31.5|19.87|0.0|\n",
            "|              IC|    MH|   N6B|             D16|          454|     M334|         ZNR|      9121000001|   9122302134|      E25| PN03|        1767|6825692774|  02.02.2017|  916001237|      5306913585|02-02-2017|MH06AQ4989|Road|42.0|19.94|0.0|\n",
            "|              IC|    MH|   N6B|             D16|          447|     MI53|         ZNR|      9121000001|   9122280074|      E25| PN03|        1767|6825692749|  02.02.2017|  916001237|      5306913587|02-02-2017| MH43Y2926|Road|31.5|19.42|0.0|\n",
            "|              IC|    MH|   N6B|             D16|          447|     MI53|         ZNR|      9121000001|   9122280074|      E25| PN03|        1767|6825693282|  02.02.2017|  916001237|      5306913823|02-02-2017| MH43Y7702|Road|31.5| 19.1|0.0|\n",
            "|              IC|    WB|   N3C|             D19|          802|     WM59|         ZNR|      9121002001|   9122196150|      E13| SK06|        1797|6825694267|  02.02.2017|  916002812|      5306914111|02-02-2017| WB23D7742|Road|47.0|20.15|0.0|\n",
            "|              IC|    WB|   N3C|             D19|          803|     W164|         ZNR|      9121002001|   9122196152|      E13| SK06|        1797|6825694412|  02.02.2017|  916002812|      5306914116|02-02-2017| WB25D5997|Road|55.0|15.04|0.0|\n",
            "|              IC|    MH|   N6B|             D16|          447|     MI53|         ZNR|      9121000001|   9122280074|      E25| PN03|        1767|6825693829|  02.02.2017|  916001237|      5306914161|02-02-2017|MH06AQ5078|Road|31.5| 19.3|0.0|\n",
            "|              IC|    MH|   N6B|             D16|          447|     MI53|         ZNR|      9121000001|   9122280074|      E25| PN03|        1767|6825693819|  02.02.2017|  916001237|      5306914162|02-02-2017|MH04EB3631|Road|31.5|19.47|0.0|\n",
            "|              IC|    MH|   N6B|             D16|          447|     MI53|         ZNR|      9121000001|   9122280074|      E25| PN03|        1767|6825693966|  02.02.2017|  916001237|      5306914218|02-02-2017|MH06AQ5090|Road|31.5| 20.1|0.0|\n",
            "|              IC|    MH|   N6B|             D16|          447|     MI53|         ZNR|      9121000001|   9122280074|      E25| PN03|        1767|6825694362|  02.02.2017|  916001237|      5306914430|02-02-2017|MH06AQ5110|Road|31.5|19.66|0.0|\n",
            "|              IC|    WB|   N3C|             D19|          803|     W132|         ZNR|      9121002001|   9122196148|      E13| SK06|        1797|6825885774|  02.03.2017|  916002532|      5306984164|01-03-2017| WB25C9297|Road|39.0|15.39|0.0|\n",
            "+----------------+------+------+----------------+-------------+---------+------------+----------------+-------------+---------+-----+------------+----------+------------+-----------+----------------+----------+----------+----+----+-----+---+\n",
            "only showing top 20 rows\n",
            "\n"
          ],
          "name": "stdout"
        }
      ]
    },
    {
      "cell_type": "code",
      "metadata": {
        "id": "Paa0UsvKWiPl",
        "colab_type": "code",
        "outputId": "a9cfe02d-2988-4b23-de93-b44d9ca73755",
        "colab": {
          "base_uri": "https://localhost:8080/",
          "height": 479
        }
      },
      "source": [
        "#multiple conditions\n",
        "v_dataset.where((v_dataset.Regioal_S_Office == 'D23') & (v_dataset.Product_Code == '1805')).show()"
      ],
      "execution_count": 0,
      "outputs": [
        {
          "output_type": "stream",
          "text": [
            "+----------------+------+------+----------------+-------------+---------+------------+----------------+-------------+---------+-----+------------+----------+------------+-----------+----------------+----------+----------+----+-----+----+---+\n",
            "|Type_of_Customer|Region|SOffie|Regioal_S_Office|District_Code|City_Code|Cluster_Code|Distributor_Code|Customer_Code|WareHouse|STLOC|Product_Code|       Ref|Invoice_Date|Transporter|Delivery Challan|  Del_Date|Truck_Code|MODE| Dist| QTY|MRP|\n",
            "+----------------+------+------+----------------+-------------+---------+------------+----------------+-------------+---------+-----+------------+----------+------------+-----------+----------------+----------+----------+----+-----+----+---+\n",
            "|              DC|    HP|   N1A|             D23|          273|     H341|         ZNR|      9124135005|   9122193944|      E04| Z115|        1805|6825515371|  01.01.2017|  916001137|      5306837889|30-12-2016| HP64B3365|Road|122.0|10.0|0.0|\n",
            "|              DC|    HP|   N1A|             D23|          275|     H449|         ZNR|      9124119171|   9122130651|      E04| Z115|        1805|6825515482|  01.01.2017|  916001212|      5306840701|31-12-2016| HP62A2723|Road|108.0|10.0|0.0|\n",
            "|              DC|    HP|   N1A|             D23|          275|     H447|         ZNR|      9124119171|   9122127027|      E04| Z115|        1805|6825514882|  01.01.2017|  916001212|      5306840716|31-12-2016|  HP515123|Road|113.0|10.0|0.0|\n",
            "|              DC|    HP|   N1A|             D23|          274|     H712|         ZNR|      9124119527|   9122122954|      E04| Z115|        1805|6825514979|  01.01.2017|  916001212|      5306840728|31-12-2016| HP62B5587|Road|166.0|20.0|0.0|\n",
            "|              DC|    HP|   N1A|             D23|          274|     H726|         ZNR|      9124119584|   9122125620|      E04| Z115|        1805|6825514936|  01.01.2017|  916001212|      5306840730|31-12-2016| HP62C5587|Road|176.0|20.0|0.0|\n",
            "|              DC|    HP|   N1A|             D23|          274|     H726|         ZNR|      9124119584|   9122125620|      E04| Z115|        1805|6825514869|  01.01.2017|  916001212|      5306840734|31-12-2016| HP62A2784|Road|176.0|10.0|0.0|\n",
            "|              DC|    HP|   N1A|             D23|          274|     H424|         ZNR|      9124119577|   9122130644|      E04| Z115|        1805|6825514883|  01.01.2017|  916001212|      5306840742|31-12-2016| HP51A4255|Road|182.0|10.0|0.0|\n",
            "|              DC|    HP|   N1A|             D23|          274|     H424|         ZNR|      9124119577|   9122130644|      E04| Z115|        1805|6825515176|  01.01.2017|  916001596|      5306840752|31-12-2016|  HP115028|Road|182.0|10.0|0.0|\n",
            "|              DC|    HP|   N1A|             D23|          276|     H516|         ZNR|      9124119171|   9122131632|      E04| Z115|        1805|6825515029|  01.01.2017|  916001212|      5306840788|31-12-2016| HP62B3111|Road| 83.0|20.0|0.0|\n",
            "|              DC|    HP|   N1A|             D23|          274|     H424|         ZNR|      9124119577|   9122130644|      E04| Z115|        1805|6825514965|  01.01.2017|  916001596|      5306840825|31-12-2016|  HP115864|Road|182.0|10.0|0.0|\n",
            "|              DC|    HP|   N1A|             D23|          275|     H449|         ZNR|      9124119171|   9122130651|      E04| Z115|        1805|6825515706|  01.01.2017|  916001137|      5306841476|31-12-2016| HP64A3497|Road|108.0|10.0|0.0|\n",
            "|              DC|    HP|   N1A|             D23|          274|     H726|         ZNR|      9124119584|   9122125620|      E04| Z115|        1805|6825515978|  01.01.2017|  916001137|      5306841581|31-12-2016| HP51B5537|Road|176.0|10.0|0.0|\n",
            "|              DC|    HP|   N1A|             D23|          266|     H071|         ZNR|      9124143003|   9122236304|      E04| Z115|        1805|6825515401|  01.01.2017|  916001137|      5306841673|31-12-2016|  HP644203|Road| 22.0|10.0|0.0|\n",
            "|              DC|    HP|   N1A|             D23|          274|     H726|         ZNR|      9124119584|   9122125620|      E04| Z115|        1805|6825515608|  01.01.2017|  916001137|      5306841692|31-12-2016|  HP115993|Road|176.0|10.0|0.0|\n",
            "|              DC|    HP|   N1A|             D23|          274|     H712|         ZNR|      9124119527|   9122122954|      E04| Z115|        1805|6825514880|  01.01.2017|  916001137|      5306841700|31-12-2016| HP11A3411|Road|166.0|10.0|0.0|\n",
            "|              DC|    HP|   N1A|             D23|          274|     H726|         ZNR|      9124119584|   9122125620|      E04| Z115|        1805|6825515281|  01.01.2017|  916001137|      5306841719|31-12-2016| HP64B3527|Road|176.0|10.0|0.0|\n",
            "|              DC|    HP|   N1A|             D23|          274|     H726|         ZNR|      9124119584|   9122125620|      E04| Z115|        1805|6825515269|  01.01.2017|  916001137|      5306841721|31-12-2016| HP62A1625|Road|176.0|10.0|0.0|\n",
            "|              DC|    HP|   N1A|             D23|          276|     H450|         ZNR|      9124119724|   9122132406|      E04| Z115|        1805|6825514885|  01.01.2017|  916001137|      5306841755|31-12-2016|  HP119054|Road| 21.0|10.0|0.0|\n",
            "|              DC|    HP|   N1A|             D23|          276|     H450|         ZNR|      9124119724|   9122132406|      E04| Z115|        1805|6825515953|  01.01.2017|  916001137|      5306841812|31-12-2016|  HP650865|Road| 21.0|10.0|0.0|\n",
            "|              DC|    HP|   N1A|             D23|          274|     H432|         ZNR|      9124119675|   9122123571|      E04| Z115|        1805|6825515307|  01.01.2017|  916001212|      5306841901|31-12-2016| HP62C7035|Road| 50.0|20.0|0.0|\n",
            "+----------------+------+------+----------------+-------------+---------+------------+----------------+-------------+---------+-----+------------+----------+------------+-----------+----------------+----------+----------+----+-----+----+---+\n",
            "only showing top 20 rows\n",
            "\n"
          ],
          "name": "stdout"
        }
      ]
    },
    {
      "cell_type": "code",
      "metadata": {
        "id": "BIbU4Dd4sxRN",
        "colab_type": "code",
        "outputId": "040b70a5-b5a3-4040-de0e-ec1a6a70e2ad",
        "colab": {
          "base_uri": "https://localhost:8080/",
          "height": 459
        }
      },
      "source": [
        "#Suppose you want to know the no of occurences of each value in a column\n",
        "QTY_df = v_dataset.groupby('QTY').count().show()"
      ],
      "execution_count": 0,
      "outputs": [
        {
          "output_type": "stream",
          "text": [
            "+--------+-----+\n",
            "|     QTY|count|\n",
            "+--------+-----+\n",
            "|     8.5| 6786|\n",
            "|   20.64|  211|\n",
            "|   19.06|  134|\n",
            "|    10.7|   32|\n",
            "|   13.87|    9|\n",
            "|1,020.50|    1|\n",
            "|   23.97|   29|\n",
            "|   28.79|    4|\n",
            "|   31.47|    4|\n",
            "|   26.63|    5|\n",
            "|   28.37|    9|\n",
            "|   37.21|    1|\n",
            "|   36.65|    1|\n",
            "|   34.71|    6|\n",
            "|   34.63|    3|\n",
            "|   17.42|    1|\n",
            "|   151.0|    1|\n",
            "|   30.86|    1|\n",
            "|     1.0| 5608|\n",
            "|    20.5|  409|\n",
            "+--------+-----+\n",
            "only showing top 20 rows\n",
            "\n"
          ],
          "name": "stdout"
        }
      ]
    },
    {
      "cell_type": "code",
      "metadata": {
        "id": "G8oCPu6QZRR2",
        "colab_type": "code",
        "outputId": "728a2bda-ad6e-442c-bee7-bfd9ed917533",
        "colab": {
          "base_uri": "https://localhost:8080/",
          "height": 479
        }
      },
      "source": [
        "v_dataset.orderBy(v_dataset.MRP).show()"
      ],
      "execution_count": 0,
      "outputs": [
        {
          "output_type": "stream",
          "text": [
            "+----------------+------+------+----------------+-------------+---------+------------+----------------+-------------+---------+-----+------------+----------+------------+-----------+----------------+----------+-----------+----+-----+----+---+\n",
            "|Type_of_Customer|Region|SOffie|Regioal_S_Office|District_Code|City_Code|Cluster_Code|Distributor_Code|Customer_Code|WareHouse|STLOC|Product_Code|       Ref|Invoice_Date|Transporter|Delivery Challan|  Del_Date| Truck_Code|MODE| Dist| QTY|MRP|\n",
            "+----------------+------+------+----------------+-------------+---------+------------+----------------+-------------+---------+-----+------------+----------+------------+-----------+----------------+----------+-----------+----+-----+----+---+\n",
            "|              DC|    JH|   N5B|             D21|          332|     J309|         ZNR|      9124158632|   9122308903|      GI5| B1L1|        1799|6826382245|  17.05.2017|  910014247|      5360736206|17-05-2017|JH01AV-9350|Road| 45.0|20.0|0.0|\n",
            "|              DC|    SK|   N3E|             D19|          649|     SK12|         ZNR|      9124150504|   9124150504|      GL4| FKL1|        1790|6826382484|  17.05.2017|  916001906|      5360736391|17-05-2017|WB/73D/7696|Road|120.0|10.0|0.0|\n",
            "|              DC|    JH|   N5B|             D21|          332|     J309|         ZNR|      9124158632|   9122308903|      GI5| B1L1|        1799|6826382249|  17.05.2017|  910014247|      5360736219|17-05-2017|JH01AV-9350|Road| 45.0| 5.0|0.0|\n",
            "|              DC|    JH|   N5B|             D21|          310|     J051|         ZNR|      9124153800|   9124153800|      GI9| B1L1|        1799|6826381917|  17.05.2017|  910024750|      5360735956|17-05-2017| JH10P/8529|Road| 15.0|33.0|0.0|\n",
            "|              DC|    JH|   N5B|             D21|          332|     J309|         ZNR|      9124158632|   9122308903|      GI5| B1L1|        1799|6826382257|  17.05.2017|  910014247|      5360736224|17-05-2017|JH01AQ-1099|Road| 45.0|20.0|0.0|\n",
            "|              DC|    BR|   N5C|             D21|          205|     B649|         ZNR|      9124144850|   9124144850|      G0O| B1L1|        1799|6826382017|  17.05.2017|  910025010|      5360736037|17-05-2017|BR06GB 4395|Road| 25.0| 8.0|0.0|\n",
            "|              DC|    JH|   N5B|             D21|          332|     J309|         ZNR|      9124158632|   9122308903|      GI5| B1L1|        1799|6826382260|  17.05.2017|  910014247|      5360736228|17-05-2017|JH01AQ-1099|Road| 45.0| 5.0|0.0|\n",
            "|              DC|    MH|   N6B|             D16|          456|     MHJV|         ZNR|      9124158601|   9122308713|       G2| MTL2|        9956|6826382027|  17.05.2017|  918039772|      5360736057|17-05-2017| MH04FD3148|Road| 90.0|10.0|0.0|\n",
            "|              DC|    JH|   N5B|             D21|          317|     J305|         ZNR|      9124156830|   9124156830|      GI5| B1L1|        1790|6826382271|  17.05.2017|  910014247|      5360736235|17-05-2017| JH13A-8636|Road|100.0|20.0|0.0|\n",
            "|              DC|    WB|   N3B|             D19|          812|     WN73|         ZNR|      9124124865|   9122224590|      GL4| FKL1|        1790|6826382165|  17.05.2017|  918010662|      5360736157|17-05-2017| WB/23/4401|Road|  1.0|20.0|0.0|\n",
            "|              DC|    SK|   N3E|             D19|          649|     SK12|         ZNR|      9124150504|   9124150504|      GL4| FKL1|        1790|6826382281|  17.05.2017|  916001906|      5360736238|17-05-2017|WB/73D/5750|Road|120.0|10.0|0.0|\n",
            "|              DC|    SK|   N3E|             D19|          649|     SK12|         ZNR|      9124150504|   9124150504|      GL4| FKL1|        1790|6826382227|  17.05.2017|  916001906|      5360736191|17-05-2017|WB/73C/4794|Road|120.0| 8.0|0.0|\n",
            "|              DC|    JH|   N5B|             D21|          317|     J305|         ZNR|      9124156830|   9124156830|      GI5| B1L1|        1790|6826382286|  17.05.2017|  910014247|      5360736239|17-05-2017| JH13A-8636|Road|100.0| 5.0|0.0|\n",
            "|              DC|    MH|   N6B|             D16|          447|     MG80|         ZNR|      9124160604|   9122313650|       G2| MTL2|        9956|6826382345|  17.05.2017|  918039772|      5360736287|17-05-2017| MH04FU7861|Road| 92.0|15.0|0.0|\n",
            "|              DC|    WB|   N3E|             D19|          812|     WN73|         ZNR|      9124159971|   9124159971|      GL4| FKL1|        1790|6826382467|  17.05.2017|  916001906|      5360736380|17-05-2017|WB/57A/3782|Road|  1.0|20.0|0.0|\n",
            "|              DC|    WB|   N3E|             D19|          812|     WA47|         ZNR|      9124149348|   9124149348|      GL4| FKL1|        1790|6826382349|  17.05.2017|  916001906|      5360736291|17-05-2017|WB/73A/7005|Road| 30.0|6.75|0.0|\n",
            "|              DC|    BR|   N5C|             D21|          205|     B649|         ZNR|      9124144850|   9124144850|      G0O| B1L1|        1799|6826381962|  17.05.2017|  910025010|      5360735996|17-05-2017|BR06GA 5850|Road| 25.0| 8.0|0.0|\n",
            "|              DC|    WB|   N3E|             D19|          812|     WA47|         ZNR|      9124149348|   9124149348|      GL4| FKL1|        1790|6826382354|  17.05.2017|  916001906|      5360736296|17-05-2017|WB/73D/6618|Road| 30.0| 4.5|0.0|\n",
            "|              DC|    WB|   N3B|             D19|          812|     WN73|         ZNR|      9124124865|   9122224590|      GL4| FKL1|        1790|6826382152|  17.05.2017|  918010662|      5360736130|17-05-2017| WB/73/6062|Road|  1.0|20.0|0.0|\n",
            "|              DC|    MH|   N6B|             D16|          447|     MA84|         ZNR|      9124145471|   9122261240|       G2| MTL2|        9956|6826382376|  17.05.2017|  918039772|      5360736305|17-05-2017|  MH43Y1871|Road| 80.0|10.0|0.0|\n",
            "+----------------+------+------+----------------+-------------+---------+------------+----------------+-------------+---------+-----+------------+----------+------------+-----------+----------------+----------+-----------+----+-----+----+---+\n",
            "only showing top 20 rows\n",
            "\n"
          ],
          "name": "stdout"
        }
      ]
    },
    {
      "cell_type": "code",
      "metadata": {
        "id": "VnYGKM7psxGQ",
        "colab_type": "code",
        "outputId": "359a9607-5855-4586-ca5a-09a42bbf7c74",
        "colab": {
          "base_uri": "https://localhost:8080/",
          "height": 479
        }
      },
      "source": [
        "#If u want to sort the dataframe by any column\n",
        "sorte_df = v_dataset.sort(dataset.QTY).show()"
      ],
      "execution_count": 0,
      "outputs": [
        {
          "output_type": "stream",
          "text": [
            "+----------------+------+------+----------------+-------------+---------+------------+----------------+-------------+---------+-----+------------+----------+------------+-----------+----------------+----------+-----------+----+----+-----+----+\n",
            "|Type_of_Customer|Region|SOffie|Regioal_S_Office|District_Code|City_Code|Cluster_Code|Distributor_Code|Customer_Code|WareHouse|STLOC|Product_Code|       Ref|Invoice_Date|Transporter|Delivery Challan|  Del_Date| Truck_Code|MODE|Dist|  QTY| MRP|\n",
            "+----------------+------+------+----------------+-------------+---------+------------+----------------+-------------+---------+-----+------------+----------+------------+-----------+----------------+----------+-----------+----+----+-----+----+\n",
            "|              OT|    WB|   N3A|             D19|          802|     WM32|         N15|      9122004568|   9122004568|      E13| SK06|        1797|6827603996|  27.10.2017|  916002812|      5307519917|27-10-2017|  WB23D5596|Road|36.0|0.016| 0.0|\n",
            "|              OT|    WB|   N3A|             D19|          802|     WM32|         N15|      9122004568|   9122004568|      E13| SK04|        1784|6827628977|  30.10.2017|  916002812|      5307525919|30-10-2017|  WB25G7711|Road|36.0| 0.04| 0.0|\n",
            "|              OT|    WB|   N3A|             D19|          802|     WM32|         N15|      9122004568|   9122004568|      E13| SK04|        1784|6827604197|  27.10.2017|  916002812|      5307519989|27-10-2017|  WB23D3511|Road|36.0| 0.04| 0.0|\n",
            "|              DE|    PB|   N1F|             D23|          595|     P517|         C12|      9121019763|   9121019763|      GM4| RRD1|        1788|6825557374|  10.01.2017|  916001759|      5360217522|10-01-2017|  PB07M5036|Road|80.0| 0.05|69.0|\n",
            "|              DE|    HR|   N2M|             D24|          288|     ID13|         D01|      9121013717|   9122260594|      GE8| RRL1|        1788|6825824095|  22.02.2017|  918010647|      5360386472|22-02-2017| HR55T-3953|Road|17.0| 0.05|63.0|\n",
            "|              DE|    PB|   N1F|             D23|          595|     P517|         C12|      9121019763|   9121019763|      GM4| RRD1|        1788|6825929534|  08.03.2017|  916001759|      5360454141|08-03-2017| PB07AS2087|Road|80.0| 0.05|72.0|\n",
            "|              DE|    UP|   N0D|             D22|          763|     U811|         NQ8|      9121010447|   9121010447|      G5G| RXD1|        1788|6826107610|  03.04.2017|  916002117|      5360567709|03-04-2017|  UP41T4280|Road|10.0| 0.05|72.0|\n",
            "|              DC|    MH|   N7B|             D18|          429|     MHCI|         ZNR|      9124159945|   9124159945|      GZ8| MTD2|        9956|6825945140|  11.03.2017|  918009741|      5360463744|11-03-2017|  MH30B7248|Road|25.0| 0.05| 0.0|\n",
            "|              DC|    MH|   N7B|             D18|          429|     MHCI|         ZNR|      9124159945|   9124159945|      GZ8| MTD2|        9956|6825964490|  15.03.2017|  918009741|      5360476530|15-03-2017| MH30AF7483|Road|25.0| 0.05| 0.0|\n",
            "|              DE|    RJ|   N2B|             D24|          627|     RJOC|         D10|      9121016868|   9121016868|      G4I| RBD1|        1788|6825612455|  20.01.2017|  916002446|      5360252128|20-01-2017| RJ14RC3407|Road|  52| 0.05|56.0|\n",
            "|              DE|    UP|   N0D|             D22|          763|     U811|         NQ8|      9121010447|   9121010447|      G5G| RXD1|        1788|6826107686|  03.04.2017|  918040165|      5360567753|03-04-2017|  UP41T4280|Road|10.0| 0.05|72.0|\n",
            "|              DE|    BR|   N5C|             D21|          208|     B293|         NT5|      9121016584|   9121016584|      G59| B1D1|        3079|6825531606|  05.01.2017|  918029596|      5360201225|05-01-2017|  BR21G2209|Road| 770| 0.05|75.6|\n",
            "|              DE|    BR|   N5C|             D21|          208|     B293|         NT5|      9121016584|   9121016584|      G59| B1L1|        7457|6825531616|  05.01.2017|  918029596|      5360201234|05-01-2017|  BR21G2209|Road| 770| 0.05|72.2|\n",
            "|              DE|    WB|   N3D|             D19|          806|     WZ9R|         NF9|      9121019012|   9121019012|      GH7| SKD1|        1788|6826030475|  24.03.2017|  916001906|      5360519282|24-03-2017|WB 41D 4752|Road|  75| 0.05|68.4|\n",
            "|              DE|    DL|   N0B|             D22|          859|     DM06|         D02|      9121009255|   9121009255|      GH3| DDD1|        1788|6826044842|  26.03.2017|  916001906|      5360527950|26-03-2017| HR55N 4469|Road| 7.0| 0.05|69.0|\n",
            "|              DE|    GJ|   N8B|             D17|          265|     GK40|         NA1|      9121020885|   9121020885|      G66| A2D1|        1792|6826078338|  30.03.2017|  918022996|      5360549519|30-03-2017|  GJ18X8979|Road|25.0| 0.05|56.0|\n",
            "|              DE|    WB|   N3E|             D19|          812|     WA47|         NV8|      9121019150|   9121019150|      GI0| B1L1|        1788|6826084958|  31.03.2017|  916001906|      5360553333|31-03-2017|WB/73C/5420|Road|30.0| 0.05|72.8|\n",
            "|              DE|    WB|   N3D|             D19|          805|     W275|         NF8|      9121016523|   9121016523|      GY5| B1L1|        3079|6826295509|  02.05.2017|  916001906|      5360683137|02-05-2017|   WB112143|Road| 5.0| 0.05|82.4|\n",
            "|              DE|    UP|   N0D|             D22|          763|     U811|         NQ8|      9121010447|   9121010447|      G5G| RXD1|        1788|6826108879|  03.04.2017|  918040165|      5360568500|03-04-2017|  UP41T4280|Road|10.0| 0.05|72.0|\n",
            "|              DE|    DL|   N0B|             D22|          859|     DL11|         D02|      9121009438|   9121009438|      GH3| RBD1|        1788|6826120526|  05.04.2017|  916001906|      5360574931|05-04-2017| DL1LV 2501|Road| 8.0| 0.05|72.4|\n",
            "+----------------+------+------+----------------+-------------+---------+------------+----------------+-------------+---------+-----+------------+----------+------------+-----------+----------------+----------+-----------+----+----+-----+----+\n",
            "only showing top 20 rows\n",
            "\n"
          ],
          "name": "stdout"
        }
      ]
    },
    {
      "cell_type": "code",
      "metadata": {
        "id": "BQnHFJqRtNdn",
        "colab_type": "code",
        "outputId": "ea829c10-eb06-4105-b9b1-aceda587a449",
        "colab": {
          "base_uri": "https://localhost:8080/",
          "height": 479
        }
      },
      "source": [
        "#In reverse order\n",
        "reverse_df = v_dataset.sort((dataset.QTY).desc()).show()"
      ],
      "execution_count": 0,
      "outputs": [
        {
          "output_type": "stream",
          "text": [
            "+----------------+------+------+----------------+-------------+---------+------------+----------------+-------------+---------+-----+------------+----------+------------+-----------+----------------+----------+--------------------+----+-----+-----+---+\n",
            "|Type_of_Customer|Region|SOffie|Regioal_S_Office|District_Code|City_Code|Cluster_Code|Distributor_Code|Customer_Code|WareHouse|STLOC|Product_Code|       Ref|Invoice_Date|Transporter|Delivery Challan|  Del_Date|          Truck_Code|MODE| Dist|  QTY|MRP|\n",
            "+----------------+------+------+----------------+-------------+---------+------------+----------------+-------------+---------+-----+------------+----------+------------+-----------+----------------+----------+--------------------+----+-----+-----+---+\n",
            "|              DC|    BR|   N5C|             D21|          209|     B636|         ZNR|      9124151043|   9124151043|      E06| B132|        1799|6826263781|  27.04.2017|  914501906|      5307135274|27-04-2017|    15 MULTIPLE NBOX|Rail|966.0|992.5|0.0|\n",
            "|              DC|    BR|   N5C|             D21|          221|     B532|         ZNR|      9124154749|   9124154749|      E06| B132|        1774|6826605280|  19.06.2017|  914501906|      5307265032|18-06-2017|15 MULTIPLE HLWAGONS|Rail|971.0|988.5|0.0|\n",
            "|              DC|    JK|   N0A|             D23|          339|     JO27|         ZNR|      9124145041|   9122288858|      E12| RR11|        1799|6826139989|  09.04.2017|  914501692|      5307085841|09-04-2017|AS PER LIST ATTACHED|Rail|373.0|985.5|0.0|\n",
            "|              DC|    WB|   N3D|             D19|          806|     W328|         ZNR|      9124143571|   9124143571|      E06| B132|        1774|6827579819|  24.10.2017|  914501906|      5307513213|24-10-2017| 15  MULTIPLE WAGONS|Rail|  765|982.5|0.0|\n",
            "|              DC|    UP|   N5D|             D21|          731|     URP6|         ZNR|      9124161705|   9122320366|      E06| B132|        1774|6827719091|  10.11.2017|  914501906|      5307548494|10-11-2017|  15 MULTIPLE WAGONS|Rail|638.0|979.5|0.0|\n",
            "|              DC|    JK|   N0A|             D23|          339|     JO27|         ZNR|      9124156937|   9124156937|      E12| RR11|        1799|6827217963|  07.09.2017|  914501692|      5307422526|07-09-2017|AS PER LIST ATTACHED|Rail|  373|979.5|0.0|\n",
            "|              DC|    JK|   N0A|             D23|          339|     JO27|         ZNR|      9124156763|   9122302360|      E12| RR11|        1799|6826804914|  17.07.2017|  914501692|      5307325197|17-07-2017|AS PER LIST ATTACHED|Rail|373.0|979.5|0.0|\n",
            "|              DC|    JH|   N5B|             D21|          310|     J302|         ZNR|      9124123972|   9124123972|      E06| B132|        1774|6826977873|  08.08.2017|  914501906|      5307366351|08-08-2017|   15 MULTIPLE WAGON|Rail|  650|979.5|0.0|\n",
            "|              DC|    OR|   N4E|             D20|          565|     O635|         ZNR|      9124158070|   9124158070|      E06| B132|        1799|6825852148|  25.02.2017|  914501906|      5306974877|25-02-2017|    14 MULTIPLE NBOX|Rail|  272|978.6|0.0|\n",
            "|              DC|    JH|   N5B|             D21|          310|     J302|         ZNR|      9124123972|   9124123972|      E06| B132|        1774|6826397858|  19.05.2017|  914501906|      5307189080|19-05-2017|  14 MULTIPLE WAGONS|Rail|650.0|978.6|0.0|\n",
            "|              DC|    WB|   N3B|             D19|          805|     W275|         ZNR|      9124123447|   9122289190|      E06| B132|        1774|6827722998|  10.11.2017|  914501906|      5307549652|10-11-2017|  15 MULTIPLE WAGONS|Rail|765.0|976.5|0.0|\n",
            "|              DC|    JK|   N0A|             D23|          339|     JO27|         ZNR|      9124156937|   9124156937|      E12| RR11|        1799|6827870230|  27.11.2017|  914501692|      5307587494|27-11-2017|AS PER LIST ATTACHED|Rail|373.0|976.5|0.0|\n",
            "|              DC|    JK|   N0A|             D23|          339|     JO27|         ZNR|      9124156937|   9124156937|      E12| RR11|        1799|6827750509|  14.11.2017|  914501692|      5307556047|14-11-2017|AS PER LIST ATTACHED|Rail|373.0|973.5|0.0|\n",
            "|              DC|    OR|   N4E|             D20|          565|     O635|         ZNR|      9124158070|   9124158070|      E06| B132|        1799|6825644826|  25.01.2017|  914501906|      5306895638|25-01-2017|  15 MULTIPLE WAGONS|Rail|  272|973.5|0.0|\n",
            "|              DC|    WB|   N3B|             D19|          805|     W273|         ZNR|      9124124031|   9122304227|      E06| B132|        1774|6826060095|  28.03.2017|  914501906|      5307053401|28-03-2017|  15 MULTIPLE WAGONS|Rail|765.0|973.5|0.0|\n",
            "|              DC|    JK|   N0A|             D23|          339|     JO27|         ZNR|      9124145041|   9122288858|      E12| RR11|        1799|6826395233|  19.05.2017|  914501692|      5307187054|19-05-2017|AS PER LIST ATTACHED|Rail|373.0|973.5|0.0|\n",
            "|              DC|    WB|   N3B|             D19|          805|     W275|         ZNR|      9124123447|   9122289190|      E06| B132|        1774|6826451865|  27.05.2017|  914501906|      5307208995|27-05-2017|  15 MULTIPLE WAGONS|Rail|  765|973.5|0.0|\n",
            "|              DC|    BR|   N5C|             D21|          193|     B135|         ZNR|      9124142170|   9124142170|      E06| B132|        1774|6826226562|  21.04.2017|  914501906|      5307119859|21-04-2017|   15 MULTIPLE WAGON|Rail|851.0|970.5|0.0|\n",
            "|              DC|    JK|   N0A|             D23|          863|     JP39|         ZNR|      9124158111|   9124158111|      E12| RR11|        1769|6826776034|  13.07.2017|  914501692|      5307318346|13-07-2017|AS PER LIST ATTACHED|Rail|373.0|970.5|0.0|\n",
            "|              DC|    WB|   N3B|             D19|          805|     W275|         ZNR|      9124123447|   9122289190|      E06| B132|        1774|6826909332|  30.07.2017|  914501906|      5307350823|30-07-2017|  15 MULTIPLE WAGONS|Rail|765.0|967.5|0.0|\n",
            "+----------------+------+------+----------------+-------------+---------+------------+----------------+-------------+---------+-----+------------+----------+------------+-----------+----------------+----------+--------------------+----+-----+-----+---+\n",
            "only showing top 20 rows\n",
            "\n"
          ],
          "name": "stdout"
        }
      ]
    },
    {
      "cell_type": "markdown",
      "metadata": {
        "id": "Pf0B_r98uGTs",
        "colab_type": "text"
      },
      "source": [
        "PERFORMING SQL QUERIES ON THE DATAFRAME"
      ]
    },
    {
      "cell_type": "code",
      "metadata": {
        "id": "Tile3VJHZ9E1",
        "colab_type": "code",
        "outputId": "f7c51c28-1d81-4138-a925-6bfc3e769622",
        "colab": {
          "base_uri": "https://localhost:8080/",
          "height": 459
        }
      },
      "source": [
        "dataset.show()"
      ],
      "execution_count": 0,
      "outputs": [
        {
          "output_type": "stream",
          "text": [
            "+---+----------------+------+----------------+------------+----+------------+-----+----+----+------+\n",
            "|_c0|Type of Customer|Region|Regioal S Office|Cluster Code|MODE|Product Code| Dist| QTY| MRP| Sales|\n",
            "+---+----------------+------+----------------+------------+----+------------+-----+----+----+------+\n",
            "|  0|               1|    12|               7|         283|   1|        1788|  2.0|10.0|72.0| 720.0|\n",
            "|  1|               1|    26|               3|          22|   1|        1788|207.0|16.0|68.6|1097.6|\n",
            "|  2|               1|    26|               3|         799|   1|        1788|482.0|21.0|69.4|1457.4|\n",
            "|  3|               1|    12|               7|         278|   1|        1788|135.0|10.0|74.0| 740.0|\n",
            "|  4|               1|     6|               4|         330|   1|        1788| 51.0|18.0|45.0| 810.0|\n",
            "|  5|               1|    10|               1|         481|   1|        1792|211.0|12.0|49.6| 595.2|\n",
            "|  6|               1|    10|               1|         481|   1|        9813|211.0| 5.0|54.2| 271.0|\n",
            "|  7|               1|    10|               1|         438|   1|        1792|468.0|22.0|51.2|1126.4|\n",
            "|  8|               1|    26|               3|         506|   1|        1788| 37.0|21.0|66.0|1386.0|\n",
            "|  9|               1|    21|               8|         539|   1|        1788|150.0|30.0|55.0|1650.0|\n",
            "| 10|               1|    21|               8|         539|   1|        1788|150.0| 3.0|55.0| 165.0|\n",
            "| 11|               1|    10|               1|         602|   1|        1792|553.0|15.0|51.2| 768.0|\n",
            "| 12|               1|    10|               1|         602|   1|        9813|553.0| 7.0|56.0| 392.0|\n",
            "| 13|               1|    12|               7|         118|   1|        1788|208.0|10.0|75.4| 754.0|\n",
            "| 14|               1|    12|               7|         298|   1|        1788|121.0|10.0|74.6| 746.0|\n",
            "| 15|               1|    12|               7|         303|   1|        1788| 63.0|10.0|70.8| 708.0|\n",
            "| 16|               1|    12|               7|         521|   1|        1788| 92.0|10.0|71.0| 710.0|\n",
            "| 17|               1|    26|               3|         555|   1|        3079|161.0|16.0|74.2|1187.2|\n",
            "| 18|               1|    26|               3|          72|   1|        1788|176.0|16.0|66.0|1056.0|\n",
            "| 19|               1|    10|               1|         132|   1|        1792|490.0|22.0|51.2|1126.4|\n",
            "+---+----------------+------+----------------+------------+----+------------+-----+----+----+------+\n",
            "only showing top 20 rows\n",
            "\n"
          ],
          "name": "stdout"
        }
      ]
    },
    {
      "cell_type": "code",
      "metadata": {
        "id": "eDci6Rr9a6Ei",
        "colab_type": "code",
        "colab": {}
      },
      "source": [
        "dataset = dataset.drop('_c0')"
      ],
      "execution_count": 0,
      "outputs": []
    },
    {
      "cell_type": "code",
      "metadata": {
        "id": "FUg-EXJzaO0v",
        "colab_type": "code",
        "colab": {}
      },
      "source": [
        "data = dataset.withColumnRenamed(\"Type of Customer\", \"Type_of_Customer\").withColumnRenamed(\"Regioal S Office\", \"Regioal_S_Office\").withColumnRenamed(\"Cluster Code\", \"Cluster_Code\").withColumnRenamed(\"Product Code\", \"Product_Code\")"
      ],
      "execution_count": 0,
      "outputs": []
    },
    {
      "cell_type": "code",
      "metadata": {
        "id": "pFBWwIRJcn7Y",
        "colab_type": "code",
        "colab": {}
      },
      "source": [
        "data.registerTempTable('big_data')\n",
        "#SQL queries can be performed on this table"
      ],
      "execution_count": 0,
      "outputs": []
    },
    {
      "cell_type": "code",
      "metadata": {
        "id": "0YHORkWIcnvg",
        "colab_type": "code",
        "colab": {}
      },
      "source": [
        "#from pyspark import SparkContext\n",
        "from pyspark.sql import SQLContext\n",
        "sqlContext = SQLContext(spark)\n"
      ],
      "execution_count": 0,
      "outputs": []
    },
    {
      "cell_type": "code",
      "metadata": {
        "id": "FAZgXEb5uAFC",
        "colab_type": "code",
        "outputId": "355ec4ae-7c5c-4935-c827-2dc7212c6a94",
        "colab": {
          "base_uri": "https://localhost:8080/",
          "height": 459
        }
      },
      "source": [
        "sqlContext.sql('select Cluster_Code from big_data').show()"
      ],
      "execution_count": 0,
      "outputs": [
        {
          "output_type": "stream",
          "text": [
            "+------------+\n",
            "|Cluster_Code|\n",
            "+------------+\n",
            "|         283|\n",
            "|          22|\n",
            "|         799|\n",
            "|         278|\n",
            "|         330|\n",
            "|         481|\n",
            "|         481|\n",
            "|         438|\n",
            "|         506|\n",
            "|         539|\n",
            "|         539|\n",
            "|         602|\n",
            "|         602|\n",
            "|         118|\n",
            "|         298|\n",
            "|         303|\n",
            "|         521|\n",
            "|         555|\n",
            "|          72|\n",
            "|         132|\n",
            "+------------+\n",
            "only showing top 20 rows\n",
            "\n"
          ],
          "name": "stdout"
        }
      ]
    },
    {
      "cell_type": "code",
      "metadata": {
        "id": "g8yjIbLqhiMu",
        "colab_type": "code",
        "outputId": "20a9ac05-ed1d-41b4-f666-1d3b440995af",
        "colab": {
          "base_uri": "https://localhost:8080/",
          "height": 119
        }
      },
      "source": [
        "#Checking the minimum sales\n",
        "sqlContext.sql('select max(Sales) from big_data').show()"
      ],
      "execution_count": 0,
      "outputs": [
        {
          "output_type": "stream",
          "text": [
            "+-----------------+\n",
            "|       max(Sales)|\n",
            "+-----------------+\n",
            "|47836.92000000001|\n",
            "+-----------------+\n",
            "\n"
          ],
          "name": "stdout"
        }
      ]
    },
    {
      "cell_type": "code",
      "metadata": {
        "id": "Fvu5gT15hiKW",
        "colab_type": "code",
        "outputId": "5467aab9-e42a-46df-daa3-ba0767392162",
        "colab": {
          "base_uri": "https://localhost:8080/",
          "height": 459
        }
      },
      "source": [
        "#select all the columns where the mrp is 72 bucks\n",
        "sqlContext.sql('select * from big_data where Product_Code == 3079') .show()"
      ],
      "execution_count": 0,
      "outputs": [
        {
          "output_type": "stream",
          "text": [
            "+----------------+------+----------------+------------+----+------------+-----+----+----+-----------------+\n",
            "|Type_of_Customer|Region|Regioal_S_Office|Cluster_Code|MODE|Product_Code| Dist| QTY| MRP|            Sales|\n",
            "+----------------+------+----------------+------------+----+------------+-----+----+----+-----------------+\n",
            "|               1|    26|               3|         555|   1|        3079|161.0|16.0|74.2|           1187.2|\n",
            "|               1|    26|               3|         555|   1|        3079|114.0|16.0|74.2|           1187.2|\n",
            "|               1|    26|               3|         493|   1|        3079|125.0| 9.0|71.6|            644.4|\n",
            "|               1|    26|               3|         555|   1|        3079|185.0| 9.0|74.2|667.8000000000002|\n",
            "|               1|    26|               3|         555|   1|        3079|185.0| 7.0|74.2|            519.4|\n",
            "|               1|    26|               3|         555|   1|        3079|161.0|16.0|74.2|           1187.2|\n",
            "|               1|    26|               3|         555|   1|        3079|161.0|16.0|74.2|           1187.2|\n",
            "|               1|    26|               3|         381|   1|        3079|212.0|16.0|71.6|           1145.6|\n",
            "|               1|    26|               3|         493|   1|        3079| 98.0| 9.0|71.6|            644.4|\n",
            "|               1|    26|               3|         493|   1|        3079|116.0| 9.0|71.6|            644.4|\n",
            "|               1|    26|               3|         492|   1|        3079|217.0|16.0|71.6|           1145.6|\n",
            "|               1|    26|               3|         492|   1|        3079|235.0|16.0|71.6|           1145.6|\n",
            "|               1|    26|               3|         555|   1|        3079|161.0|16.0|74.2|           1187.2|\n",
            "|               1|    26|               3|         555|   1|        3079|184.0| 9.0|74.2|667.8000000000002|\n",
            "|               1|    26|               3|         555|   1|        3079|161.0|16.0|74.2|           1187.2|\n",
            "|               1|    26|               3|         555|   1|        3079|169.0|21.0|74.2|           1558.2|\n",
            "|               1|    26|               3|         555|   1|        3079|168.0|16.0|74.2|           1187.2|\n",
            "|               1|    18|               2|         580|   1|        3079|188.0|10.0|72.2|            722.0|\n",
            "|               1|    26|               3|         493|   1|        3079|168.0| 5.0|71.6|            358.0|\n",
            "|               1|    26|               3|         609|   1|        3079| 54.0|16.0|72.0|           1152.0|\n",
            "+----------------+------+----------------+------------+----+------------+-----+----+----+-----------------+\n",
            "only showing top 20 rows\n",
            "\n"
          ],
          "name": "stdout"
        }
      ]
    },
    {
      "cell_type": "code",
      "metadata": {
        "id": "O7m3jvm8hiH3",
        "colab_type": "code",
        "outputId": "f7f71535-eb46-41f3-e996-a868b9695028",
        "colab": {
          "base_uri": "https://localhost:8080/",
          "height": 459
        }
      },
      "source": [
        "#Nested queries\n",
        "sqlContext.sql('select * from big_data where QTY IN (select min(QTY) from big_data)').show()"
      ],
      "execution_count": 0,
      "outputs": [
        {
          "output_type": "stream",
          "text": [
            "+----------------+------+----------------+------------+----+------------+-----+----+----+------------------+\n",
            "|Type_of_Customer|Region|Regioal_S_Office|Cluster_Code|MODE|Product_Code| Dist| QTY| MRP|             Sales|\n",
            "+----------------+------+----------------+------------+----+------------+-----+----+----+------------------+\n",
            "|               1|     4|               5|         596|   1|        3079|770.0|0.05|75.6|              3.78|\n",
            "|               1|     4|               5|         596|   1|        7457|770.0|0.05|72.2|              3.61|\n",
            "|               1|    20|               7|         259|   1|        1788| 80.0|0.05|72.0|               3.6|\n",
            "|               1|    20|               7|         259|   1|        1788| 80.0|0.05|69.0|              3.45|\n",
            "|               1|    21|               8|         312|   1|        1788| 52.0|0.05|56.0|2.8000000000000003|\n",
            "|               1|    11|               8|         305|   1|        1788| 17.0|0.05|63.0|3.1500000000000004|\n",
            "|               1|     4|               5|         650|   1|        1788|  6.0|0.05|75.4| 3.770000000000001|\n",
            "|               1|    26|               3|         493|   1|        1788| 75.0|0.05|68.4|3.4200000000000004|\n",
            "|               1|     9|               6|         306|   1|        1788|  7.0|0.05|69.0|              3.45|\n",
            "|               1|    10|               1|         438|   1|        1792| 25.0|0.05|56.0|2.8000000000000003|\n",
            "|               1|    26|               3|         612|   1|        1788| 30.0|0.05|72.8|              3.64|\n",
            "|               1|    26|               3|         492|   1|        3079|  5.0|0.05|82.4|              4.12|\n",
            "|               1|    24|               6|         573|   1|        1788| 10.0|0.05|72.0|               3.6|\n",
            "|               1|    24|               6|         573|   1|        1788| 10.0|0.05|72.0|               3.6|\n",
            "|               1|    24|               6|         573|   1|        1788| 10.0|0.05|72.0|               3.6|\n",
            "|               1|    24|               6|         573|   1|        1788| 10.0|0.05|72.0|               3.6|\n",
            "|               1|     9|               6|         306|   1|        1788|  8.0|0.05|72.4| 3.620000000000001|\n",
            "|               1|    20|               7|         749|   1|        1788| 25.0|0.05|70.0|               3.5|\n",
            "|               1|     9|               6|         306|   1|        1788|  8.0|0.05|67.0|              3.35|\n",
            "|               1|     9|               6|         306|   1|        1788|  5.0|0.05|72.4| 3.620000000000001|\n",
            "+----------------+------+----------------+------------+----+------------+-----+----+----+------------------+\n",
            "only showing top 20 rows\n",
            "\n"
          ],
          "name": "stdout"
        }
      ]
    },
    {
      "cell_type": "code",
      "metadata": {
        "id": "uA2GoU4RhiFh",
        "colab_type": "code",
        "outputId": "a15ca00b-b02e-466e-bd1e-b9880b3f9cad",
        "colab": {
          "base_uri": "https://localhost:8080/",
          "height": 221
        }
      },
      "source": [
        "\"\"\" MODEL FITTING \"\"\" \n",
        "#Checking the datatypes of columns\n",
        "data.printSchema()"
      ],
      "execution_count": 0,
      "outputs": [
        {
          "output_type": "stream",
          "text": [
            "root\n",
            " |-- Type_of_Customer: integer (nullable = true)\n",
            " |-- Region: integer (nullable = true)\n",
            " |-- Regioal_S_Office: integer (nullable = true)\n",
            " |-- Cluster_Code: integer (nullable = true)\n",
            " |-- MODE: integer (nullable = true)\n",
            " |-- Product_Code: integer (nullable = true)\n",
            " |-- Dist: double (nullable = true)\n",
            " |-- QTY: double (nullable = true)\n",
            " |-- MRP: double (nullable = true)\n",
            " |-- Sales: double (nullable = true)\n",
            "\n"
          ],
          "name": "stdout"
        }
      ]
    },
    {
      "cell_type": "code",
      "metadata": {
        "id": "pgKYZmvDc5wR",
        "colab_type": "code",
        "colab": {}
      },
      "source": [
        "from pyspark.ml.linalg import Vectors\n",
        "from pyspark.ml.feature import VectorAssembler"
      ],
      "execution_count": 0,
      "outputs": []
    },
    {
      "cell_type": "code",
      "metadata": {
        "id": "l7eOyQf_c8id",
        "colab_type": "code",
        "colab": {}
      },
      "source": [
        "featureassembler=VectorAssembler(inputCols=['Type_of_Customer', 'Region', 'Regioal_S_Office', 'Cluster_Code', 'MODE', 'Product_Code', 'Dist', 'QTY', 'MRP'],outputCol = \"Independent Features\")"
      ],
      "execution_count": 0,
      "outputs": []
    },
    {
      "cell_type": "code",
      "metadata": {
        "id": "yC49qvr5dpEk",
        "colab_type": "code",
        "colab": {}
      },
      "source": [
        "output = featureassembler.transform(data)"
      ],
      "execution_count": 0,
      "outputs": []
    },
    {
      "cell_type": "code",
      "metadata": {
        "id": "6rBgYJEgdvRM",
        "colab_type": "code",
        "outputId": "2c3ddb04-1fa3-453c-9e72-f2d930f91b73",
        "colab": {
          "base_uri": "https://localhost:8080/",
          "height": 459
        }
      },
      "source": [
        "output.select(\"Independent Features\").show()"
      ],
      "execution_count": 0,
      "outputs": [
        {
          "output_type": "stream",
          "text": [
            "+--------------------+\n",
            "|Independent Features|\n",
            "+--------------------+\n",
            "|[1.0,12.0,7.0,283...|\n",
            "|[1.0,26.0,3.0,22....|\n",
            "|[1.0,26.0,3.0,799...|\n",
            "|[1.0,12.0,7.0,278...|\n",
            "|[1.0,6.0,4.0,330....|\n",
            "|[1.0,10.0,1.0,481...|\n",
            "|[1.0,10.0,1.0,481...|\n",
            "|[1.0,10.0,1.0,438...|\n",
            "|[1.0,26.0,3.0,506...|\n",
            "|[1.0,21.0,8.0,539...|\n",
            "|[1.0,21.0,8.0,539...|\n",
            "|[1.0,10.0,1.0,602...|\n",
            "|[1.0,10.0,1.0,602...|\n",
            "|[1.0,12.0,7.0,118...|\n",
            "|[1.0,12.0,7.0,298...|\n",
            "|[1.0,12.0,7.0,303...|\n",
            "|[1.0,12.0,7.0,521...|\n",
            "|[1.0,26.0,3.0,555...|\n",
            "|[1.0,26.0,3.0,72....|\n",
            "|[1.0,10.0,1.0,132...|\n",
            "+--------------------+\n",
            "only showing top 20 rows\n",
            "\n"
          ],
          "name": "stdout"
        }
      ]
    },
    {
      "cell_type": "code",
      "metadata": {
        "id": "9mjVSrbbd-Eo",
        "colab_type": "code",
        "colab": {}
      },
      "source": [
        "data = output.select(\"Independent Features\", \"Sales\")"
      ],
      "execution_count": 0,
      "outputs": []
    },
    {
      "cell_type": "code",
      "metadata": {
        "colab_type": "code",
        "id": "9qrfuoOHcnsQ",
        "colab": {}
      },
      "source": [
        "train_data, test_data = data.randomSplit([0.7,0.3])"
      ],
      "execution_count": 0,
      "outputs": []
    },
    {
      "cell_type": "code",
      "metadata": {
        "colab_type": "code",
        "id": "sS5pWvd1cnaM",
        "colab": {}
      },
      "source": [
        "from pyspark.ml.regression import LinearRegression\n",
        "\n",
        "regressor = LinearRegression(featuresCol='Independent Features', labelCol='Sales')\n",
        "regressor = regressor.fit(train_data)"
      ],
      "execution_count": 0,
      "outputs": []
    },
    {
      "cell_type": "code",
      "metadata": {
        "id": "DlPyOeztDsYM",
        "colab_type": "code",
        "outputId": "e99502b2-ce45-4bc1-a36d-44f40d24034b",
        "colab": {
          "base_uri": "https://localhost:8080/",
          "height": 34
        }
      },
      "source": [
        "regressor.coefficients"
      ],
      "execution_count": 0,
      "outputs": [
        {
          "output_type": "execute_result",
          "data": {
            "text/plain": [
              "DenseVector([-145.7082, -0.1013, -0.8337, -0.0237, -2366.8915, -0.0025, -0.0901, 68.1298, 10.678])"
            ]
          },
          "metadata": {
            "tags": []
          },
          "execution_count": 66
        }
      ]
    },
    {
      "cell_type": "code",
      "metadata": {
        "id": "bVKsTVtmeowA",
        "colab_type": "code",
        "outputId": "6b7a73d2-3d2f-4313-cd69-c6f7b81b729d",
        "colab": {
          "base_uri": "https://localhost:8080/",
          "height": 34
        }
      },
      "source": [
        "regressor.intercept"
      ],
      "execution_count": 0,
      "outputs": [
        {
          "output_type": "execute_result",
          "data": {
            "text/plain": [
              "1815.4480584825212"
            ]
          },
          "metadata": {
            "tags": []
          },
          "execution_count": 67
        }
      ]
    },
    {
      "cell_type": "code",
      "metadata": {
        "id": "l1i0dmNxesIe",
        "colab_type": "code",
        "colab": {}
      },
      "source": [
        "pred_results = regressor.evaluate(test_data)"
      ],
      "execution_count": 0,
      "outputs": []
    },
    {
      "cell_type": "code",
      "metadata": {
        "id": "CsjUQz0vewWS",
        "colab_type": "code",
        "colab": {}
      },
      "source": [
        "result = pred_results.predictions"
      ],
      "execution_count": 0,
      "outputs": []
    },
    {
      "cell_type": "code",
      "metadata": {
        "id": "8PJ_vH3Rkqhh",
        "colab_type": "code",
        "colab": {}
      },
      "source": [
        ""
      ],
      "execution_count": 0,
      "outputs": []
    }
  ]
}